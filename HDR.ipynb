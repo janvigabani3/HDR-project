{
 "cells": [
  {
   "cell_type": "markdown",
   "id": "84a1511d-0b5b-411d-ba7c-3c58819c8627",
   "metadata": {},
   "source": [
    "IMPORT LIBRARY FUNCTIONS REQUIRED"
   ]
  },
  {
   "cell_type": "code",
   "execution_count": 7,
   "id": "f6e48248-7d91-49c4-b2d7-37aa2e4c60fe",
   "metadata": {},
   "outputs": [],
   "source": [
    "import matplotlib.pyplot as plt\n",
    "%matplotlib inline\n",
    "import pylab as pl\n",
    "from sklearn.datasets import load_digits\n",
    "from sklearn.model_selection import train_test_split\n",
    "from sklearn import svm\n"
   ]
  },
  {
   "cell_type": "markdown",
   "id": "87d7be7e-22e8-4a39-8873-ec244b566757",
   "metadata": {},
   "source": [
    "IMPORT HANDWRITTEN DIGITS-INBUILT FROM SK-LEARN"
   ]
  },
  {
   "cell_type": "code",
   "execution_count": 8,
   "id": "7742f500-263d-40df-a99c-2e890bea1c51",
   "metadata": {},
   "outputs": [],
   "source": [
    "digits = load_digits()"
   ]
  },
  {
   "cell_type": "markdown",
   "id": "34177bc6-724a-42d9-a394-50cb28dc09b2",
   "metadata": {},
   "source": [
    "DISPLAY FIRST SAMPLE DIGIT FROM DATASET "
   ]
  },
  {
   "cell_type": "code",
   "execution_count": 11,
   "id": "9dfc4641-c127-41c6-9680-3b49b4cfa7e0",
   "metadata": {},
   "outputs": [
    {
     "data": {
      "text/plain": [
       "<Figure size 640x480 with 0 Axes>"
      ]
     },
     "metadata": {},
     "output_type": "display_data"
    },
    {
     "data": {
      "image/png": "[encoded data removed]",
      "text/plain": [
       "<Figure size 480x480 with 1 Axes>"
      ]
     },
     "metadata": {},
     "output_type": "display_data"
    }
   ],
   "source": [
    "pl.gray()\n",
    "pl.matshow(digits.images[6])\n",
    "pl.show()"
   ]
  },
  {
   "cell_type": "markdown",
   "id": "6b696a19-7188-411f-ae16-1d228ddf89c5",
   "metadata": {},
   "source": [
    "SEE THE PIXEL VALUES OF SAMPLE DIGIT"
   ]
  },
  {
   "cell_type": "code",
   "execution_count": 12,
   "id": "6bc39d9c-c8e8-43b2-88e5-798be8fc6223",
   "metadata": {},
   "outputs": [
    {
     "data": {
      "text/plain": [
       "array([[ 0.,  0.,  0., 12., 13.,  0.,  0.,  0.],\n",
       "       [ 0.,  0.,  5., 16.,  8.,  0.,  0.,  0.],\n",
       "       [ 0.,  0., 13., 16.,  3.,  0.,  0.,  0.],\n",
       "       [ 0.,  0., 14., 13.,  0.,  0.,  0.,  0.],\n",
       "       [ 0.,  0., 15., 12.,  7.,  2.,  0.,  0.],\n",
       "       [ 0.,  0., 13., 16., 13., 16.,  3.,  0.],\n",
       "       [ 0.,  0.,  7., 16., 11., 15.,  8.,  0.],\n",
       "       [ 0.,  0.,  1.,  9., 15., 11.,  3.,  0.]])"
      ]
     },
     "execution_count": 12,
     "metadata": {},
     "output_type": "execute_result"
    }
   ],
   "source": [
    "digits.images[6]"
   ]
  },
  {
   "cell_type": "markdown",
   "id": "7203a40b-9ce7-418f-8cdc-7a331a411519",
   "metadata": {},
   "source": [
    "DISPLAY 15 SAMPLE DDIGITS FROM DATASET ALONG WITH LABELS"
   ]
  },
  {
   "cell_type": "code",
   "execution_count": 14,
   "id": "bd54d71b-dc83-4831-974b-4b845ea53e5c",
   "metadata": {},
   "outputs": [
    {
     "data": {
      "image/png": "[encoded data removed]",
      "text/plain": [
       "<Figure size 500x500 with 15 Axes>"
      ]
     },
     "metadata": {},
     "output_type": "display_data"
    }
   ],
   "source": [
    "images_and_lables = list(zip(digits.images, digits.target))\n",
    "plt.figure(figsize =(5,5))\n",
    "for index, (image,label) in enumerate(images_and_lables[:15]):\n",
    "    plt.subplot(3,5, index + 1)\n",
    "    plt.axis('off')\n",
    "    plt.imshow(image, cmap=plt.cm.gray_r, interpolation = 'nearest')\n",
    "    plt.title('%i' % label)"
   ]
  },
  {
   "cell_type": "markdown",
   "id": "b31e76db-5d3a-4a67-b1b0-fb259c53a719",
   "metadata": {},
   "source": [
    "KNOW THE DATASET-CHECH FOR NUMBER OF DIGITS"
   ]
  },
  {
   "cell_type": "code",
   "execution_count": 15,
   "id": "633b64ab-9362-45a7-b35c-6442a98caed6",
   "metadata": {},
   "outputs": [
    {
     "name": "stdout",
     "output_type": "stream",
     "text": [
      "1797\n"
     ]
    }
   ],
   "source": [
    "n_samples = len(digits.images)\n",
    "print(n_samples)"
   ]
  },
  {
   "cell_type": "markdown",
   "id": "21dec272-679e-45df-9f87-c17215cfca30",
   "metadata": {},
   "source": [
    "DIVIDE THE DATASET INTO INPUT FEATURES AND OUTPUT TARGET"
   ]
  },
  {
   "cell_type": "code",
   "execution_count": 16,
   "id": "82a39e9e-83b7-49ca-bdd9-327519bf45f8",
   "metadata": {},
   "outputs": [],
   "source": [
    "X= digits.images.reshape((n_samples,-1))\n",
    "y= digits.target"
   ]
  },
  {
   "cell_type": "markdown",
   "id": "0e4f86f2-016f-454b-b4fb-efdd1e1a5c11",
   "metadata": {},
   "source": [
    "DIVIDE THE DATASET INTO TRAINIG & TESTING BY RANDOM SPLITTING"
   ]
  },
  {
   "cell_type": "code",
   "execution_count": 18,
   "id": "73eb520f-5252-43ba-9954-e194b51bdc9c",
   "metadata": {},
   "outputs": [
    {
     "name": "stdout",
     "output_type": "stream",
     "text": [
      "(1347, 64)\n",
      "(450, 64)\n"
     ]
    }
   ],
   "source": [
    "X_train, X_test, y_train,y_test = train_test_split(X,y)\n",
    "print(X_train.shape)\n",
    "print(X_test.shape)"
   ]
  },
  {
   "cell_type": "markdown",
   "id": "9633a125-c99d-4c1c-999c-ad0ed8ce5337",
   "metadata": {},
   "source": [
    "define vector classifier model with linear kernel"
   ]
  },
  {
   "cell_type": "code",
   "execution_count": 19,
   "id": "14080720-4730-4c8d-bbc3-ae9be49bd25b",
   "metadata": {},
   "outputs": [],
   "source": [
    "model_linear = svm.SVC(kernel='linear', degree=3, gamma='scale')\n",
    "model_linear.fit(X_train, y_train)\n",
    "y_pred= model_linear.predict(X_test)"
   ]
  },
  {
   "cell_type": "markdown",
   "id": "a87a57d4-913b-484d-8d98-930e053dd9ff",
   "metadata": {},
   "source": [
    "evaluate the model using accuracy"
   ]
  },
  {
   "cell_type": "code",
   "execution_count": 20,
   "id": "20bf7da7-9025-4647-b93a-730f38e8146e",
   "metadata": {},
   "outputs": [
    {
     "data": {
      "text/plain": [
       "0.9844444444444445"
      ]
     },
     "execution_count": 20,
     "metadata": {},
     "output_type": "execute_result"
    }
   ],
   "source": [
    "model_linear.score(X_test,y_test)"
   ]
  },
  {
   "cell_type": "markdown",
   "id": "daece88c-c543-4b14-94f9-663a4a701050",
   "metadata": {},
   "source": [
    "compare by creating another model with kernel type RBF and evaluate for accuracy"
   ]
  },
  {
   "cell_type": "code",
   "execution_count": 21,
   "id": "93d89e96-1953-4ca4-804d-edea858221ba",
   "metadata": {},
   "outputs": [
    {
     "data": {
      "text/plain": [
       "0.9911111111111112"
      ]
     },
     "execution_count": 21,
     "metadata": {},
     "output_type": "execute_result"
    }
   ],
   "source": [
    "model_RBF = svm.SVC(degree=3,gamma='scale',kernel='rbf')\n",
    "model_RBF.fit(X_train,y_train)\n",
    "y_pred2 = model_RBF.predict(X_test)\n",
    "model_RBF.score(X_test, y_test)\n"
   ]
  },
  {
   "cell_type": "markdown",
   "id": "d0add953-ed13-4781-b208-93503b3b4e0c",
   "metadata": {},
   "source": [
    "CHECK FOR PREDICTION FROM DATASET"
   ]
  },
  {
   "cell_type": "code",
   "execution_count": 22,
   "id": "52378c52-7ea1-45e2-b875-96ef9a0a2015",
   "metadata": {},
   "outputs": [
    {
     "name": "stdout",
     "output_type": "stream",
     "text": [
      "              precision    recall  f1-score   support\n",
      "\n",
      "           0       0.98      1.00      0.99        41\n",
      "           1       0.98      1.00      0.99        51\n",
      "           2       1.00      1.00      1.00        49\n",
      "           3       0.98      0.98      0.98        45\n",
      "           4       0.98      1.00      0.99        58\n",
      "           5       0.95      1.00      0.97        38\n",
      "           6       1.00      0.97      0.99        40\n",
      "           7       1.00      0.98      0.99        49\n",
      "           8       0.97      0.97      0.97        33\n",
      "           9       1.00      0.93      0.97        46\n",
      "\n",
      "    accuracy                           0.98       450\n",
      "   macro avg       0.98      0.98      0.98       450\n",
      "weighted avg       0.98      0.98      0.98       450\n",
      "\n"
     ]
    }
   ],
   "source": [
    "from sklearn.metrics import classification_report\n",
    "predictions = model_linear.predict(X_test)\n",
    "print(classification_report(y_test,predictions))"
   ]
  },
  {
   "cell_type": "code",
   "execution_count": null,
   "id": "f5119aa6-0c83-4d10-9559-5578434a0854",
   "metadata": {},
   "outputs": [],
   "source": []
  }
 ],
 "metadata": {
  "kernelspec": {
   "display_name": "Python 3 (ipykernel)",
   "language": "python",
   "name": "python3"
  },
  "language_info": {
   "codemirror_mode": {
    "name": "ipython",
    "version": 3
   },
   "file_extension": ".py",
   "mimetype": "text/x-python",
   "name": "python",
   "nbconvert_exporter": "python",
   "pygments_lexer": "ipython3",
   "version": "3.13.0"
  }
 },
 "nbformat": 4,
 "nbformat_minor": 5
}
